{
 "cells": [
  {
   "cell_type": "code",
   "execution_count": 1,
   "metadata": {},
   "outputs": [],
   "source": [
    "import pandas as panda\n",
    "import numpy"
   ]
  },
  {
   "cell_type": "code",
   "execution_count": 4,
   "metadata": {},
   "outputs": [
    {
     "data": {
      "text/plain": [
       "0    1\n",
       "1    2\n",
       "2    3\n",
       "3    4\n",
       "4    5\n",
       "5    6\n",
       "6    7\n",
       "7    8\n",
       "8    9\n",
       "dtype: int64"
      ]
     },
     "execution_count": 4,
     "metadata": {},
     "output_type": "execute_result"
    }
   ],
   "source": [
    "#series em panda sao semelhates a array em python puro\n",
    "\n",
    "serie = panda.Series([1,2,3,4,5,6,7,8,9])\n",
    "#toda serie vem acompanhada do seu indice\n",
    "serie"
   ]
  },
  {
   "cell_type": "code",
   "execution_count": 5,
   "metadata": {},
   "outputs": [
    {
     "data": {
      "text/plain": [
       "RangeIndex(start=0, stop=9, step=1)"
      ]
     },
     "execution_count": 5,
     "metadata": {},
     "output_type": "execute_result"
    }
   ],
   "source": [
    "serie.index"
   ]
  },
  {
   "cell_type": "code",
   "execution_count": 9,
   "metadata": {},
   "outputs": [],
   "source": [
    "meses = (['jan','fev','mar','abr','maio','jun','jul','ago','set','out','nov','dez'])"
   ]
  },
  {
   "cell_type": "code",
   "execution_count": 10,
   "metadata": {},
   "outputs": [
    {
     "data": {
      "text/plain": [
       "jan      1\n",
       "fev      2\n",
       "mar      3\n",
       "abr      4\n",
       "maio     5\n",
       "jun      6\n",
       "jul      7\n",
       "ago      8\n",
       "set      9\n",
       "out     10\n",
       "nov     11\n",
       "dez     12\n",
       "dtype: int32"
      ]
     },
     "execution_count": 10,
     "metadata": {},
     "output_type": "execute_result"
    }
   ],
   "source": [
    "#posso mudar os parametros do indice das series, nao precisa ser necessariamente um numero\n",
    "\n",
    "serieMeses = panda.Series(numpy.arange(1,13), index = meses)\n",
    "]\n",
    "#o index nesse caso sao os meses do ano\n",
    "serieMeses"
   ]
  },
  {
   "cell_type": "code",
   "execution_count": 12,
   "metadata": {},
   "outputs": [
    {
     "data": {
      "text/plain": [
       "Index(['jan', 'fev', 'mar', 'abr', 'maio', 'jun', 'jul', 'ago', 'set', 'out',\n",
       "       'nov', 'dez'],\n",
       "      dtype='object')"
      ]
     },
     "execution_count": 12,
     "metadata": {},
     "output_type": "execute_result"
    }
   ],
   "source": [
    "serieMeses.index\n"
   ]
  },
  {
   "cell_type": "code",
   "execution_count": 14,
   "metadata": {},
   "outputs": [
    {
     "data": {
      "text/plain": [
       "Brasil        5\n",
       "Alemana       4\n",
       "Italia        4\n",
       "Inglaterra    1\n",
       "dtype: int64"
      ]
     },
     "execution_count": 14,
     "metadata": {},
     "output_type": "execute_result"
    }
   ],
   "source": [
    "#Tambem posso utilizar dicionarios e criar as series ja em um formato\n",
    "#dicionario\n",
    "copaDoMundo = {'Brasil':5, 'Alemana':4, 'Italia':4, 'Inglaterra':1} \n",
    "serieCopa = panda.Series(copaDoMundo) #Os paise vao ser os Indices e os Titulos os numeros\n",
    "serieCopa"
   ]
  },
  {
   "cell_type": "code",
   "execution_count": 17,
   "metadata": {},
   "outputs": [
    {
     "data": {
      "text/plain": [
       "Brasil        5.0\n",
       "Alemana       4.0\n",
       "Italia        4.0\n",
       "Inglaterra    1.0\n",
       "Espanha       NaN\n",
       "Name: wcSeries, dtype: float64"
      ]
     },
     "execution_count": 17,
     "metadata": {},
     "output_type": "execute_result"
    }
   ],
   "source": [
    "#é possivel usar os dicionarios como referecia e adicionar/retirar mais valores nas series\n",
    "\n",
    "serieCopa = panda.Series(copaDoMundo, \n",
    "             index = ['Brasil', 'Alemana', 'Italia', 'Inglaterra', 'Espanha'], #O elemento espanha foi adicionado\n",
    "             name = 'wcSeries')\n",
    "\n",
    "serieCopa"
   ]
  },
  {
   "cell_type": "code",
   "execution_count": 18,
   "metadata": {},
   "outputs": [
    {
     "data": {
      "text/plain": [
       "Index(['Brasil', 'Alemana', 'Italia', 'Inglaterra', 'Espanha'], dtype='object')"
      ]
     },
     "execution_count": 18,
     "metadata": {},
     "output_type": "execute_result"
    }
   ],
   "source": [
    "#indices da serie\n",
    "serieCopa.index"
   ]
  },
  {
   "cell_type": "code",
   "execution_count": 19,
   "metadata": {},
   "outputs": [
    {
     "data": {
      "text/plain": [
       "5.0"
      ]
     },
     "execution_count": 19,
     "metadata": {},
     "output_type": "execute_result"
    }
   ],
   "source": [
    "#Trazer o valor da serie pelo o indice\n",
    "serieCopa['Brasil']"
   ]
  },
  {
   "cell_type": "code",
   "execution_count": 20,
   "metadata": {},
   "outputs": [
    {
     "data": {
      "text/plain": [
       "Brasil        5.0\n",
       "Alemana       4.0\n",
       "Italia        4.0\n",
       "Inglaterra    1.0\n",
       "Espanha       1.0\n",
       "Name: wcSeries, dtype: float64"
      ]
     },
     "execution_count": 20,
     "metadata": {},
     "output_type": "execute_result"
    }
   ],
   "source": [
    "# Atribuindo valor ao indice Espanha, criado acima \n",
    "\n",
    "serieCopa['Espanha'] = 1\n",
    "serieCopa"
   ]
  },
  {
   "cell_type": "code",
   "execution_count": 21,
   "metadata": {},
   "outputs": [
    {
     "data": {
      "text/plain": [
       "Alemana    4.0\n",
       "Italia     4.0\n",
       "Name: wcSeries, dtype: float64"
      ]
     },
     "execution_count": 21,
     "metadata": {},
     "output_type": "execute_result"
    }
   ],
   "source": [
    "#Tambem posso trazer valores dentro de um intervalo assim como nas listas\n",
    "\n",
    "serieCopa[1:3]"
   ]
  },
  {
   "cell_type": "code",
   "execution_count": 22,
   "metadata": {},
   "outputs": [
    {
     "data": {
      "text/plain": [
       "Brasil     5.0\n",
       "Alemana    4.0\n",
       "Italia     4.0\n",
       "Name: wcSeries, dtype: float64"
      ]
     },
     "execution_count": 22,
     "metadata": {},
     "output_type": "execute_result"
    }
   ],
   "source": [
    "#tambem é possivel fazer operacoes logicas\n",
    "\n",
    "serieCopa[serieCopa > 3] #Trazendo valore dos titulos > 3"
   ]
  },
  {
   "cell_type": "code",
   "execution_count": 26,
   "metadata": {},
   "outputs": [
    {
     "data": {
      "text/plain": [
       "['Alunos', 'Notas', 'Trimestre']"
      ]
     },
     "execution_count": 26,
     "metadata": {},
     "output_type": "execute_result"
    }
   ],
   "source": [
    "#LENDO UM ARQUIVO EXCEL NO PANDA\n",
    "\n",
    "#aquivo = 'C:\\\\GIT\\\\DataScience\\\\Datasets\\\\Alunos.xlsx'\n",
    "\n",
    "arquivoExcel = panda.ExcelFile('C:\\\\GIT\\\\DataScience\\\\Datasets\\\\Alunos.xlsx')\n",
    "arquivoExcel.sheet_names"
   ]
  },
  {
   "cell_type": "code",
   "execution_count": 30,
   "metadata": {},
   "outputs": [
    {
     "data": {
      "text/html": [
       "<div>\n",
       "<style scoped>\n",
       "    .dataframe tbody tr th:only-of-type {\n",
       "        vertical-align: middle;\n",
       "    }\n",
       "\n",
       "    .dataframe tbody tr th {\n",
       "        vertical-align: top;\n",
       "    }\n",
       "\n",
       "    .dataframe thead th {\n",
       "        text-align: right;\n",
       "    }\n",
       "</style>\n",
       "<table border=\"1\" class=\"dataframe\">\n",
       "  <thead>\n",
       "    <tr style=\"text-align: right;\">\n",
       "      <th></th>\n",
       "      <th>Alunos</th>\n",
       "    </tr>\n",
       "  </thead>\n",
       "  <tbody>\n",
       "    <tr>\n",
       "      <th>0</th>\n",
       "      <td>Ana</td>\n",
       "    </tr>\n",
       "    <tr>\n",
       "      <th>1</th>\n",
       "      <td>Clara</td>\n",
       "    </tr>\n",
       "    <tr>\n",
       "      <th>2</th>\n",
       "      <td>Célia</td>\n",
       "    </tr>\n",
       "    <tr>\n",
       "      <th>3</th>\n",
       "      <td>João</td>\n",
       "    </tr>\n",
       "    <tr>\n",
       "      <th>4</th>\n",
       "      <td>Carlos</td>\n",
       "    </tr>\n",
       "    <tr>\n",
       "      <th>5</th>\n",
       "      <td>Jorge</td>\n",
       "    </tr>\n",
       "    <tr>\n",
       "      <th>6</th>\n",
       "      <td>Lilian</td>\n",
       "    </tr>\n",
       "    <tr>\n",
       "      <th>7</th>\n",
       "      <td>Antônio</td>\n",
       "    </tr>\n",
       "  </tbody>\n",
       "</table>\n",
       "</div>"
      ],
      "text/plain": [
       "    Alunos\n",
       "0      Ana\n",
       "1    Clara\n",
       "2    Célia\n",
       "3     João\n",
       "4   Carlos\n",
       "5    Jorge\n",
       "6   Lilian\n",
       "7  Antônio"
      ]
     },
     "execution_count": 30,
     "metadata": {},
     "output_type": "execute_result"
    }
   ],
   "source": [
    "#ler somente uma coluna do arquivo\n",
    "\n",
    "#um documento excel pode ter varias planilhas/folhas no mesmo arquivo, com o metodo Parse vc seta em qual dessas planilhas ira trabalhar\n",
    "alunos = arquivoExcel.parse('Alunos') #ao fazer isso, aluno passa ser do tipo DateFrame e nao serie\n",
    "alunos"
   ]
  },
  {
   "cell_type": "code",
   "execution_count": 33,
   "metadata": {},
   "outputs": [
    {
     "name": "stdout",
     "output_type": "stream",
     "text": [
      "Clara\n",
      "Clara\n"
     ]
    }
   ],
   "source": [
    "#Para trazer os o conteudo especifico do DataFrame aluno, é preciso informar a coluna e a linha\n",
    "\n",
    "print(alunos['Alunos'][1])\n",
    "\n",
    "#outra forma de trazer o mesmo resultado\n",
    "\n",
    "print(alunos.Alunos[1])"
   ]
  },
  {
   "cell_type": "code",
   "execution_count": 35,
   "metadata": {},
   "outputs": [
    {
     "data": {
      "text/html": [
       "<div>\n",
       "<style scoped>\n",
       "    .dataframe tbody tr th:only-of-type {\n",
       "        vertical-align: middle;\n",
       "    }\n",
       "\n",
       "    .dataframe tbody tr th {\n",
       "        vertical-align: top;\n",
       "    }\n",
       "\n",
       "    .dataframe thead th {\n",
       "        text-align: right;\n",
       "    }\n",
       "</style>\n",
       "<table border=\"1\" class=\"dataframe\">\n",
       "  <thead>\n",
       "    <tr style=\"text-align: right;\">\n",
       "      <th></th>\n",
       "      <th>Alunos</th>\n",
       "      <th>Sobrenome</th>\n",
       "      <th>Mês 01</th>\n",
       "      <th>Mês 02</th>\n",
       "      <th>Mês 03</th>\n",
       "    </tr>\n",
       "  </thead>\n",
       "  <tbody>\n",
       "    <tr>\n",
       "      <th>0</th>\n",
       "      <td>Ana</td>\n",
       "      <td>Santos</td>\n",
       "      <td>5.7</td>\n",
       "      <td>6.8</td>\n",
       "      <td>4.6</td>\n",
       "    </tr>\n",
       "    <tr>\n",
       "      <th>1</th>\n",
       "      <td>Clara</td>\n",
       "      <td>Mafra</td>\n",
       "      <td>9.9</td>\n",
       "      <td>7.0</td>\n",
       "      <td>9.0</td>\n",
       "    </tr>\n",
       "    <tr>\n",
       "      <th>2</th>\n",
       "      <td>Célia</td>\n",
       "      <td>Tavares</td>\n",
       "      <td>8.0</td>\n",
       "      <td>8.0</td>\n",
       "      <td>9.0</td>\n",
       "    </tr>\n",
       "    <tr>\n",
       "      <th>3</th>\n",
       "      <td>João</td>\n",
       "      <td>Nunes</td>\n",
       "      <td>9.9</td>\n",
       "      <td>9.0</td>\n",
       "      <td>8.0</td>\n",
       "    </tr>\n",
       "    <tr>\n",
       "      <th>4</th>\n",
       "      <td>Carlos</td>\n",
       "      <td>Guilherme</td>\n",
       "      <td>7.0</td>\n",
       "      <td>7.5</td>\n",
       "      <td>6.0</td>\n",
       "    </tr>\n",
       "    <tr>\n",
       "      <th>5</th>\n",
       "      <td>Jorge</td>\n",
       "      <td>Silva</td>\n",
       "      <td>6.8</td>\n",
       "      <td>7.0</td>\n",
       "      <td>5.0</td>\n",
       "    </tr>\n",
       "    <tr>\n",
       "      <th>6</th>\n",
       "      <td>Lilian</td>\n",
       "      <td>Vianna</td>\n",
       "      <td>7.8</td>\n",
       "      <td>8.0</td>\n",
       "      <td>8.5</td>\n",
       "    </tr>\n",
       "    <tr>\n",
       "      <th>7</th>\n",
       "      <td>Antônio</td>\n",
       "      <td>Costa</td>\n",
       "      <td>7.0</td>\n",
       "      <td>6.5</td>\n",
       "      <td>6.0</td>\n",
       "    </tr>\n",
       "  </tbody>\n",
       "</table>\n",
       "</div>"
      ],
      "text/plain": [
       "    Alunos  Sobrenome  Mês 01  Mês 02  Mês 03\n",
       "0      Ana     Santos     5.7     6.8     4.6\n",
       "1    Clara      Mafra     9.9     7.0     9.0\n",
       "2    Célia    Tavares     8.0     8.0     9.0\n",
       "3     João      Nunes     9.9     9.0     8.0\n",
       "4   Carlos  Guilherme     7.0     7.5     6.0\n",
       "5    Jorge      Silva     6.8     7.0     5.0\n",
       "6   Lilian     Vianna     7.8     8.0     8.5\n",
       "7  Antônio      Costa     7.0     6.5     6.0"
      ]
     },
     "execution_count": 35,
     "metadata": {},
     "output_type": "execute_result"
    }
   ],
   "source": [
    "#trocando de planilha no mesmo documento\n",
    "\n",
    "alunos = arquivoExcel.parse('Trimestre')\n",
    "\n",
    "alunos"
   ]
  },
  {
   "cell_type": "code",
   "execution_count": 38,
   "metadata": {},
   "outputs": [
    {
     "name": "stdout",
     "output_type": "stream",
     "text": [
      "linhas:            RangeIndex(start=0, stop=8, step=1)\n",
      "formato da tabela: (8, 5)\n",
      "colunas:            Index(['Alunos', 'Sobrenome', 'Mês 01', 'Mês 02', 'Mês 03'], dtype='object')\n"
     ]
    }
   ],
   "source": [
    "print('linhas:            ', alunos.index)\n",
    "print('formato da tabela: ', alunos.shape)\n",
    "print('colunas:           ', alunos.columns)"
   ]
  },
  {
   "cell_type": "code",
   "execution_count": 42,
   "metadata": {},
   "outputs": [
    {
     "name": "stdout",
     "output_type": "stream",
     "text": [
      "    Alunos  Sobrenome  Mês 01  Mês 02  Mês 03     Nome Completo\n",
      "0      Ana     Santos     5.7     6.8     4.6        Ana Santos\n",
      "1    Clara      Mafra     9.9     7.0     9.0       Clara Mafra\n",
      "2    Célia    Tavares     8.0     8.0     9.0     Célia Tavares\n",
      "3     João      Nunes     9.9     9.0     8.0        João Nunes\n",
      "4   Carlos  Guilherme     7.0     7.5     6.0  Carlos Guilherme\n",
      "5    Jorge      Silva     6.8     7.0     5.0       Jorge Silva\n",
      "6   Lilian     Vianna     7.8     8.0     8.5     Lilian Vianna\n",
      "7  Antônio      Costa     7.0     6.5     6.0     Antônio Costa \n",
      "\n",
      "    Alunos  Sobrenome  Mês 01  Mês 02  Mês 03     Nome Completo\n",
      "0      Ana     Santos     5.7     6.8     4.6        Ana Santos\n",
      "1    Clara      Mafra     9.9     7.0     9.0       Clara Mafra\n",
      "2    Célia    Tavares     8.0     8.0     9.0     Célia Tavares\n",
      "3     João      Nunes     9.9     9.0     8.0        João Nunes\n",
      "4   Carlos  Guilherme     7.0     7.5     6.0  Carlos Guilherme\n",
      "5    Jorge      Silva     6.8     7.0     5.0       Jorge Silva\n",
      "6   Lilian     Vianna     7.8     8.0     8.5     Lilian Vianna\n",
      "7  Antônio      Costa     7.0     6.5     6.0     Antônio Costa \n",
      "\n"
     ]
    }
   ],
   "source": [
    "#Criando uma nova coluna, concatenando duas outras colunas\n",
    "\n",
    "#primeira forma\n",
    "alunos['Nome Completo'] = alunos['Alunos'] + ' '+ alunos['Sobrenome']\n",
    "print(alunos,'\\n')\n",
    "\n",
    "#outra forma de fazer a mesma coisa\n",
    "alunos['Nome Completo'] = alunos.Alunos + ' ' + alunos.Sobrenome\n",
    "print(alunos,'\\n')"
   ]
  },
  {
   "cell_type": "code",
   "execution_count": null,
   "metadata": {},
   "outputs": [],
   "source": []
  }
 ],
 "metadata": {
  "kernelspec": {
   "display_name": "Python 3",
   "language": "python",
   "name": "python3"
  },
  "language_info": {
   "codemirror_mode": {
    "name": "ipython",
    "version": 3
   },
   "file_extension": ".py",
   "mimetype": "text/x-python",
   "name": "python",
   "nbconvert_exporter": "python",
   "pygments_lexer": "ipython3",
   "version": "3.7.6"
  }
 },
 "nbformat": 4,
 "nbformat_minor": 4
}
