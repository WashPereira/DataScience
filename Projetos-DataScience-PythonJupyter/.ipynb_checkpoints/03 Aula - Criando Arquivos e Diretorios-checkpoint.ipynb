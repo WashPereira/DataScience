{
 "cells": [
  {
   "cell_type": "code",
   "execution_count": 2,
   "metadata": {},
   "outputs": [
    {
     "data": {
      "text/plain": [
       "11"
      ]
     },
     "execution_count": 2,
     "metadata": {},
     "output_type": "execute_result"
    }
   ],
   "source": [
    "#Criando aquivo e acrescentando a primeira linha\n",
    "\n",
    "arquivo = open('C:/GIT/DataScience/RAW/teste.txt','w')\n",
    "arquivo.write('hello mundo')\n",
    "arquivo.close()\n"
   ]
  },
  {
   "cell_type": "code",
   "execution_count": 10,
   "metadata": {},
   "outputs": [],
   "source": [
    "#Para adicionar mais linhas ao aquivo use o metodo 'a' de append\n",
    "\n",
    "arquivo = open('C:/GIT/DataScience/RAW/teste.txt','a')\n",
    "arquivo.write('\\nTudo bom?')\n",
    "arquivo.close()\n"
   ]
  },
  {
   "cell_type": "code",
   "execution_count": 11,
   "metadata": {},
   "outputs": [],
   "source": [
    "#Lendo o arquivo\n",
    "\n",
    "arquivo = open('C:/GIT/DataScience/RAW/teste.txt','r')\n",
    "arquivo.readlines()\n"
   ]
  },
  {
   "cell_type": "code",
   "execution_count": 13,
   "metadata": {},
   "outputs": [],
   "source": [
    "#Sempre feche o arquivo para nao ficar na memoria RAM\n",
    "\n",
    "arquivo.close()\n"
   ]
  },
  {
   "cell_type": "code",
   "execution_count": 19,
   "metadata": {},
   "outputs": [],
   "source": [
    "#METODO MAIS SIMPLES PARA CRIAR E ESCREVER NUM AQUIVO SEM PRECISAR FECHAR O AQUIVO TODA VEZ\n",
    "\n",
    "with open('C:/GIT/DataScience/RAW/teste2.txt','w') as arq:\n",
    "    arq.write('Utilizando o With')\n"
   ]
  },
  {
   "cell_type": "code",
   "execution_count": 20,
   "metadata": {},
   "outputs": [],
   "source": [
    "#Acrescentando uma nova linda com o metodo 'a' - append\n",
    "\n",
    "with open('C:/GIT/DataScience/RAW/teste2.txt','a') as arq:\n",
    "    arq.write('\\nUtilizando o With com append')\n",
    "    "
   ]
  },
  {
   "cell_type": "code",
   "execution_count": 21,
   "metadata": {},
   "outputs": [],
   "source": [
    "#IMPORTANDO BIBLIOTECA OS (SISTEMA OPERACIONAL) para trabalhar com diretorios \n",
    "import os as diretorios"
   ]
  },
  {
   "cell_type": "code",
   "execution_count": 22,
   "metadata": {},
   "outputs": [
    {
     "data": {
      "text/plain": [
       "'C:\\\\GIT\\\\DataScience\\\\Projetos-DataScience-PythonJupyter'"
      ]
     },
     "execution_count": 22,
     "metadata": {},
     "output_type": "execute_result"
    }
   ],
   "source": [
    "#informa o diretorio atual\n",
    "diretorios.getcwd()"
   ]
  },
  {
   "cell_type": "code",
   "execution_count": 24,
   "metadata": {},
   "outputs": [
    {
     "data": {
      "text/plain": [
       "'c:\\\\'"
      ]
     },
     "execution_count": 24,
     "metadata": {},
     "output_type": "execute_result"
    }
   ],
   "source": [
    "#navega pelos diretorios\n",
    "diretorios.chdir('c:\\\\')\n",
    "diretorios.getcwd()"
   ]
  },
  {
   "cell_type": "code",
   "execution_count": 26,
   "metadata": {},
   "outputs": [
    {
     "ename": "FileExistsError",
     "evalue": "[WinError 183] Cannot create a file when that file already exists: 'C:\\\\GIT\\\\DataScience\\\\Projetos-DataScience-PythonJupyter\\\\novo diretorio'",
     "output_type": "error",
     "traceback": [
      "\u001b[1;31m---------------------------------------------------------------------------\u001b[0m",
      "\u001b[1;31mFileExistsError\u001b[0m                           Traceback (most recent call last)",
      "\u001b[1;32m<ipython-input-26-bf7652d3a9dd>\u001b[0m in \u001b[0;36m<module>\u001b[1;34m\u001b[0m\n\u001b[0;32m      1\u001b[0m \u001b[1;31m#criar um novo diretorio\u001b[0m\u001b[1;33m\u001b[0m\u001b[1;33m\u001b[0m\u001b[1;33m\u001b[0m\u001b[0m\n\u001b[1;32m----> 2\u001b[1;33m \u001b[0mdiretorios\u001b[0m\u001b[1;33m.\u001b[0m\u001b[0mmkdir\u001b[0m\u001b[1;33m(\u001b[0m\u001b[1;34m'C:\\\\GIT\\\\DataScience\\\\Projetos-DataScience-PythonJupyter\\\\novo diretorio'\u001b[0m\u001b[1;33m)\u001b[0m\u001b[1;33m\u001b[0m\u001b[1;33m\u001b[0m\u001b[0m\n\u001b[0m\u001b[0;32m      3\u001b[0m \u001b[0mdiretorios\u001b[0m\u001b[1;33m.\u001b[0m\u001b[0mgetcwd\u001b[0m\u001b[1;33m(\u001b[0m\u001b[1;33m)\u001b[0m\u001b[1;33m\u001b[0m\u001b[1;33m\u001b[0m\u001b[0m\n",
      "\u001b[1;31mFileExistsError\u001b[0m: [WinError 183] Cannot create a file when that file already exists: 'C:\\\\GIT\\\\DataScience\\\\Projetos-DataScience-PythonJupyter\\\\novo diretorio'"
     ]
    }
   ],
   "source": [
    "#criar um novo diretorio\n",
    "diretorios.mkdir('C:\\\\GIT\\\\DataScience\\\\Projetos-DataScience-PythonJupyter\\\\novo diretorio')\n",
    "diretorios.getcwd()"
   ]
  },
  {
   "cell_type": "code",
   "execution_count": 28,
   "metadata": {},
   "outputs": [
    {
     "data": {
      "text/plain": [
       "'C:\\\\GIT\\\\DataScience\\\\Projetos-DataScience-PythonJupyter\\\\novo diretorio'"
      ]
     },
     "execution_count": 28,
     "metadata": {},
     "output_type": "execute_result"
    }
   ],
   "source": [
    "diretorios.chdir('C:\\\\GIT\\\\DataScience\\\\Projetos-DataScience-PythonJupyter\\\\novo diretorio')\n",
    "diretorios.getcwd()"
   ]
  },
  {
   "cell_type": "code",
   "execution_count": 29,
   "metadata": {},
   "outputs": [],
   "source": [
    "with open('teste2.txt','w') as arq:\n",
    "    arq.write('Utilizando o With')"
   ]
  },
  {
   "cell_type": "code",
   "execution_count": 30,
   "metadata": {},
   "outputs": [
    {
     "data": {
      "text/plain": [
       "['teste2.txt']"
      ]
     },
     "execution_count": 30,
     "metadata": {},
     "output_type": "execute_result"
    }
   ],
   "source": [
    "#lista aquivos no diretorio\n",
    "diretorios.listdir()"
   ]
  },
  {
   "cell_type": "code",
   "execution_count": 32,
   "metadata": {},
   "outputs": [],
   "source": [
    "#removendo aquivo\n",
    "diretorios.remove('teste2.txt')"
   ]
  },
  {
   "cell_type": "code",
   "execution_count": 33,
   "metadata": {},
   "outputs": [],
   "source": [
    "#MANIPULADONO DIRETORIOS/CAMINHOS/PATH\n",
    "#Quando vc coloca ? depois do metodo, a python informa a funcionalidade do metodo\n",
    "diretorios.path?\n"
   ]
  },
  {
   "cell_type": "code",
   "execution_count": 36,
   "metadata": {},
   "outputs": [
    {
     "data": {
      "text/plain": [
       "['__all__',\n",
       " '__builtins__',\n",
       " '__cached__',\n",
       " '__doc__',\n",
       " '__file__',\n",
       " '__loader__',\n",
       " '__name__',\n",
       " '__package__',\n",
       " '__spec__',\n",
       " '_abspath_fallback',\n",
       " '_get_bothseps',\n",
       " '_getfinalpathname',\n",
       " '_getfullpathname',\n",
       " '_getvolumepathname',\n",
       " 'abspath',\n",
       " 'altsep',\n",
       " 'basename',\n",
       " 'commonpath',\n",
       " 'commonprefix',\n",
       " 'curdir',\n",
       " 'defpath',\n",
       " 'devnull',\n",
       " 'dirname',\n",
       " 'exists',\n",
       " 'expanduser',\n",
       " 'expandvars',\n",
       " 'extsep',\n",
       " 'genericpath',\n",
       " 'getatime',\n",
       " 'getctime',\n",
       " 'getmtime',\n",
       " 'getsize',\n",
       " 'isabs',\n",
       " 'isdir',\n",
       " 'isfile',\n",
       " 'islink',\n",
       " 'ismount',\n",
       " 'join',\n",
       " 'lexists',\n",
       " 'normcase',\n",
       " 'normpath',\n",
       " 'os',\n",
       " 'pardir',\n",
       " 'pathsep',\n",
       " 'realpath',\n",
       " 'relpath',\n",
       " 'samefile',\n",
       " 'sameopenfile',\n",
       " 'samestat',\n",
       " 'sep',\n",
       " 'split',\n",
       " 'splitdrive',\n",
       " 'splitext',\n",
       " 'stat',\n",
       " 'supports_unicode_filenames',\n",
       " 'sys']"
      ]
     },
     "execution_count": 36,
     "metadata": {},
     "output_type": "execute_result"
    }
   ],
   "source": [
    "#A funcao Dir retorna todo os metodos\n",
    "\n",
    "dir(diretorios) # metodos da biblioteca OS importada como diretorios acima\n",
    "dir(diretorios.path) #metodos do metodo Path"
   ]
  },
  {
   "cell_type": "code",
   "execution_count": 37,
   "metadata": {},
   "outputs": [],
   "source": [
    "#atribuindo o caminho/path de uma arquivo a uma variavel\n",
    "fullpath = 'C:\\\\GIT\\DataScience\\RAW\\\\teste.txt'"
   ]
  },
  {
   "cell_type": "code",
   "execution_count": 39,
   "metadata": {},
   "outputs": [
    {
     "data": {
      "text/plain": [
       "'teste.txt'"
      ]
     },
     "execution_count": 39,
     "metadata": {},
     "output_type": "execute_result"
    }
   ],
   "source": [
    "#funcao retorna o nome do arquivo\n",
    "arquivo = diretorios.path.basename(fullpath)\n",
    "arquivo"
   ]
  },
  {
   "cell_type": "code",
   "execution_count": 42,
   "metadata": {},
   "outputs": [],
   "source": [
    "#Verificando a existencia de um diretorio e criando caso nao exista\n",
    "caminho = 'C:\\\\GIT\\DataScience\\RAW\\\\Nova Pasta'\n",
    "if not diretorios.path.exists(caminho):\n",
    "    diretorios.mkdir(caminho)\n"
   ]
  },
  {
   "cell_type": "code",
   "execution_count": 47,
   "metadata": {},
   "outputs": [],
   "source": [
    "#MUDANDO NOME DE AQUIVOS OU DIRETORIOS\n",
    "\n",
    "diretorios.chdir('C:\\\\GIT\\\\DataScience\\\\RAW\\\\') #navega ao diretorio\n",
    "diretorios.rename('teste.txt', 'texto.csv') #muda o nome do arquivo\n",
    "\n",
    "diretorios.rename('Nova Pasta', 'Novo Caminho') #muda da pasta/diretorio"
   ]
  },
  {
   "cell_type": "code",
   "execution_count": 58,
   "metadata": {},
   "outputs": [
    {
     "data": {
      "text/plain": [
       "['teste2.csv', 'texto.csv']"
      ]
     },
     "execution_count": 58,
     "metadata": {},
     "output_type": "execute_result"
    }
   ],
   "source": [
    "#INTERAGINDO COM VARIOS ARQUIVOS e renomeando-os\n",
    "\n",
    "import glob as interacaoDeArquivos\n",
    "\n",
    "listaDeArquivos = interacaoDeArquivos.glob('*.csv')\n",
    "listaDeArquivos"
   ]
  },
  {
   "cell_type": "code",
   "execution_count": 59,
   "metadata": {},
   "outputs": [],
   "source": [
    "#Renomeando, trocando, a extessao dos arquivos\n",
    "for arquivo in listaDeArquivos:\n",
    "    #separa o nome da extensao criando uma lista de 'nome' e 'extesao'\n",
    "    nomeArquivo = diretorios.path.splitext(arquivo)[0] #posicao [0] se revefe ao 'nome do arquivo' - separado da extenssao\n",
    "    novoExtensao = nomeArquivo + '.txt'\n",
    "    diretorios.rename(arquivo, novoExtensao)\n",
    "    "
   ]
  },
  {
   "cell_type": "code",
   "execution_count": null,
   "metadata": {},
   "outputs": [],
   "source": []
  }
 ],
 "metadata": {
  "kernelspec": {
   "display_name": "Python 3",
   "language": "python",
   "name": "python3"
  },
  "language_info": {
   "codemirror_mode": {
    "name": "ipython",
    "version": 3
   },
   "file_extension": ".py",
   "mimetype": "text/x-python",
   "name": "python",
   "nbconvert_exporter": "python",
   "pygments_lexer": "ipython3",
   "version": "3.7.6"
  }
 },
 "nbformat": 4,
 "nbformat_minor": 4
}
