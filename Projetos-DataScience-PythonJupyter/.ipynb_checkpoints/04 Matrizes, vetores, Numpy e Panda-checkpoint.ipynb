{
 "cells": [
  {
   "cell_type": "code",
   "execution_count": 1,
   "metadata": {},
   "outputs": [
    {
     "data": {
      "text/plain": [
       "array([[ 10,  20,  30],\n",
       "       [ 40,  50,  60],\n",
       "       [ 70,  80, 100]])"
      ]
     },
     "execution_count": 1,
     "metadata": {},
     "output_type": "execute_result"
    }
   ],
   "source": [
    "#DECLARACAO DE ARRAY (MATRIZES) UNIDIMENCIONAL E MULTIDIMENCIONAL\n",
    "import numpy\n",
    "\n",
    "matrizA = numpy.array([[10,20, 30]])\n",
    "matrizB = numpy.array([[10, 20, 30],[40, 50, 60]])\n",
    "matrizC = numpy.array([[10, 20, 30],[40, 50, 60],[70,80,100]])\n",
    "matrizC"
   ]
  },
  {
   "cell_type": "code",
   "execution_count": 2,
   "metadata": {},
   "outputs": [
    {
     "name": "stdout",
     "output_type": "stream",
     "text": [
      "(1, 3)\n",
      "(2, 3)\n",
      "(3, 3)\n"
     ]
    }
   ],
   "source": [
    "#Dimencoes das arrays\n",
    "\n",
    "print(matrizA.shape)\n",
    "print(matrizB.shape)\n",
    "print(matrizC.shape)\n"
   ]
  },
  {
   "cell_type": "code",
   "execution_count": 3,
   "metadata": {},
   "outputs": [
    {
     "name": "stdout",
     "output_type": "stream",
     "text": [
      "2\n",
      "2\n"
     ]
    }
   ],
   "source": [
    "#Dimencoes dos array\n",
    "\n",
    "#matrizA.ndim\n",
    "print(matrizB.ndim)\n",
    "print(matrizC.ndim)"
   ]
  },
  {
   "cell_type": "code",
   "execution_count": 4,
   "metadata": {},
   "outputs": [
    {
     "data": {
      "text/plain": [
       "100"
      ]
     },
     "execution_count": 4,
     "metadata": {},
     "output_type": "execute_result"
    }
   ],
   "source": [
    "matrizC.max()"
   ]
  },
  {
   "cell_type": "code",
   "execution_count": 5,
   "metadata": {},
   "outputs": [
    {
     "data": {
      "text/plain": [
       "array([ 0,  1,  2,  3,  4,  5,  6,  7,  8,  9, 10, 11, 12, 13, 14, 15, 16,\n",
       "       17, 18, 19])"
      ]
     },
     "execution_count": 5,
     "metadata": {},
     "output_type": "execute_result"
    }
   ],
   "source": [
    "#criando arrays e populando de forma automatica\n",
    "\n",
    "array = numpy.arange(20)\n",
    "array"
   ]
  },
  {
   "cell_type": "code",
   "execution_count": 6,
   "metadata": {},
   "outputs": [
    {
     "data": {
      "text/plain": [
       "array([ 1, 11, 21, 31, 41, 51, 61, 71, 81, 91])"
      ]
     },
     "execution_count": 6,
     "metadata": {},
     "output_type": "execute_result"
    }
   ],
   "source": [
    "#criando arrays de populando casa de 10 em 10 - metodo Arange\n",
    "array = numpy.arange(1,100,10) # 1 = inicio, 100 = Fim e 10 = numero casas a serem puladas\n",
    "array"
   ]
  },
  {
   "cell_type": "raw",
   "metadata": {},
   "source": [
    "\n"
   ]
  },
  {
   "cell_type": "code",
   "execution_count": 7,
   "metadata": {},
   "outputs": [
    {
     "data": {
      "text/plain": [
       "array([ 1.        ,  1.31034483,  1.62068966,  1.93103448,  2.24137931,\n",
       "        2.55172414,  2.86206897,  3.17241379,  3.48275862,  3.79310345,\n",
       "        4.10344828,  4.4137931 ,  4.72413793,  5.03448276,  5.34482759,\n",
       "        5.65517241,  5.96551724,  6.27586207,  6.5862069 ,  6.89655172,\n",
       "        7.20689655,  7.51724138,  7.82758621,  8.13793103,  8.44827586,\n",
       "        8.75862069,  9.06896552,  9.37931034,  9.68965517, 10.        ])"
      ]
     },
     "execution_count": 7,
     "metadata": {},
     "output_type": "execute_result"
    }
   ],
   "source": [
    "#Criando matrizes com Linspace\n",
    "\n",
    "matrizD = numpy.linspace(1,10,30) #1 = Inicio da matriz, 2 = Numero maior da matriz 3 = numero de casas da matriz\n",
    "matrizD"
   ]
  },
  {
   "cell_type": "code",
   "execution_count": 8,
   "metadata": {},
   "outputs": [
    {
     "data": {
      "text/plain": [
       "array([[0., 0., 0., 0., 0.],\n",
       "       [0., 0., 0., 0., 0.],\n",
       "       [0., 0., 0., 0., 0.],\n",
       "       [0., 0., 0., 0., 0.],\n",
       "       [0., 0., 0., 0., 0.]])"
      ]
     },
     "execution_count": 8,
     "metadata": {},
     "output_type": "execute_result"
    }
   ],
   "source": [
    "#Matriz de Zeros\n",
    "\n",
    "matrizZero = numpy.zeros((5,5))\n",
    "matrizZero"
   ]
  },
  {
   "cell_type": "code",
   "execution_count": 9,
   "metadata": {},
   "outputs": [
    {
     "data": {
      "text/plain": [
       "array([[1., 1., 1., 1.],\n",
       "       [1., 1., 1., 1.],\n",
       "       [1., 1., 1., 1.],\n",
       "       [1., 1., 1., 1.],\n",
       "       [1., 1., 1., 1.]])"
      ]
     },
     "execution_count": 9,
     "metadata": {},
     "output_type": "execute_result"
    }
   ],
   "source": [
    "#Matriz de Um(s)\n",
    "\n",
    "matrizUns = numpy.ones((5,4))\n",
    "matrizUns"
   ]
  },
  {
   "cell_type": "code",
   "execution_count": 10,
   "metadata": {},
   "outputs": [
    {
     "data": {
      "text/plain": [
       "array([[1., 0., 0., 0., 0.],\n",
       "       [0., 1., 0., 0., 0.],\n",
       "       [0., 0., 1., 0., 0.],\n",
       "       [0., 0., 0., 1., 0.],\n",
       "       [0., 0., 0., 0., 1.]])"
      ]
     },
     "execution_count": 10,
     "metadata": {},
     "output_type": "execute_result"
    }
   ],
   "source": [
    "#Matriz composta por numeros 1 na diagonal - metodo Eye\n",
    "\n",
    "matrizDiagonal = numpy.eye(5)\n",
    "matrizDiagonal"
   ]
  },
  {
   "cell_type": "code",
   "execution_count": 11,
   "metadata": {},
   "outputs": [
    {
     "data": {
      "text/plain": [
       "array([[ 1,  0,  0,  0,  0,  0,  0],\n",
       "       [ 0,  3,  0,  0,  0,  0,  0],\n",
       "       [ 0,  0,  7,  0,  0,  0,  0],\n",
       "       [ 0,  0,  0,  8,  0,  0,  0],\n",
       "       [ 0,  0,  0,  0, 10,  0,  0],\n",
       "       [ 0,  0,  0,  0,  0, 12,  0],\n",
       "       [ 0,  0,  0,  0,  0,  0, 15]])"
      ]
     },
     "execution_count": 11,
     "metadata": {},
     "output_type": "execute_result"
    }
   ],
   "source": [
    "#Matriz com numeros aleatorios na diagonal\n",
    "\n",
    "matrizDiagonal = numpy.diag((1,3,7,8,10,12,15))\n",
    "matrizDiagonal"
   ]
  },
  {
   "cell_type": "code",
   "execution_count": 12,
   "metadata": {},
   "outputs": [
    {
     "data": {
      "text/plain": [
       "array([[6.23059726e-307, 7.56603881e-307, 9.34602321e-307,\n",
       "        2.14324780e-312],\n",
       "       [1.89142652e-307, 3.56038979e-307, 1.89145538e-307,\n",
       "        6.23040373e-307],\n",
       "       [1.60219035e-306, 7.56571287e-307, 8.45584427e-307,\n",
       "        8.45602762e-307],\n",
       "       [1.42413555e-306, 1.78019082e-306, 1.37959740e-306,\n",
       "        2.29178686e-312],\n",
       "       [3.44898501e-307, 4.00536722e-307, 1.61324815e-307,\n",
       "        2.33644299e-307],\n",
       "       [3.44900708e-307, 3.22648781e-307, 4.45040236e-307,\n",
       "        4.22790176e-307],\n",
       "       [6.89797681e-307, 1.61324475e-307, 3.56043053e-307,\n",
       "        1.60219306e-306],\n",
       "       [2.44763557e-307, 1.69119330e-306, 8.45599366e-307,\n",
       "        1.37962388e-306]])"
      ]
     },
     "execution_count": 12,
     "metadata": {},
     "output_type": "execute_result"
    }
   ],
   "source": [
    "#Matriz vazia\n",
    "\n",
    "matrizVazia = numpy.empty((8,4))\n",
    "matrizVazia"
   ]
  },
  {
   "cell_type": "code",
   "execution_count": 13,
   "metadata": {},
   "outputs": [
    {
     "data": {
      "text/plain": [
       "array([[1, 2, 1, 2, 1, 2],\n",
       "       [3, 4, 3, 4, 3, 4],\n",
       "       [5, 6, 5, 6, 5, 6]])"
      ]
     },
     "execution_count": 13,
     "metadata": {},
     "output_type": "execute_result"
    }
   ],
   "source": [
    "#Dobrando, triplicando o numero de alementos na matriz - metodo Tile\n",
    "#passando 1 parametro para tile\n",
    "\n",
    "matrizTripla = numpy.tile(numpy.array([[1,2],[3,4],[5,6]]),(3))\n",
    "matrizTripla"
   ]
  },
  {
   "cell_type": "code",
   "execution_count": 14,
   "metadata": {},
   "outputs": [
    {
     "data": {
      "text/plain": [
       "array([[1, 2, 1, 2, 1, 2],\n",
       "       [3, 4, 3, 4, 3, 4],\n",
       "       [5, 6, 5, 6, 5, 6],\n",
       "       [1, 2, 1, 2, 1, 2],\n",
       "       [3, 4, 3, 4, 3, 4],\n",
       "       [5, 6, 5, 6, 5, 6],\n",
       "       [1, 2, 1, 2, 1, 2],\n",
       "       [3, 4, 3, 4, 3, 4],\n",
       "       [5, 6, 5, 6, 5, 6]])"
      ]
     },
     "execution_count": 14,
     "metadata": {},
     "output_type": "execute_result"
    }
   ],
   "source": [
    "#passando 2 parametro para tile\n",
    "\n",
    "matrizTripla = numpy.tile(numpy.array([[1,2],[3,4],[5,6]]),(3,3))\n",
    "matrizTripla"
   ]
  },
  {
   "cell_type": "code",
   "execution_count": 15,
   "metadata": {},
   "outputs": [],
   "source": [
    "#Somando Arrays\n",
    "#Nao é possivel somar arrays de tamnhos de diferentes assim como as matrizes\n",
    "\n",
    "array1 = numpy.arange(0,10)\n",
    "array2 = numpy.arange(0,10) + 2"
   ]
  },
  {
   "cell_type": "code",
   "execution_count": 16,
   "metadata": {},
   "outputs": [
    {
     "data": {
      "text/plain": [
       "array([0, 1, 2, 3, 4, 5, 6, 7, 8, 9])"
      ]
     },
     "execution_count": 16,
     "metadata": {},
     "output_type": "execute_result"
    }
   ],
   "source": [
    "array1"
   ]
  },
  {
   "cell_type": "code",
   "execution_count": 17,
   "metadata": {},
   "outputs": [
    {
     "data": {
      "text/plain": [
       "array([ 2,  3,  4,  5,  6,  7,  8,  9, 10, 11])"
      ]
     },
     "execution_count": 17,
     "metadata": {},
     "output_type": "execute_result"
    }
   ],
   "source": [
    "array2"
   ]
  },
  {
   "cell_type": "code",
   "execution_count": 18,
   "metadata": {},
   "outputs": [
    {
     "data": {
      "text/plain": [
       "array([ 2,  4,  6,  8, 10, 12, 14, 16, 18, 20])"
      ]
     },
     "execution_count": 18,
     "metadata": {},
     "output_type": "execute_result"
    }
   ],
   "source": [
    "#Somando arrays\n",
    "\n",
    "array1 + array2"
   ]
  },
  {
   "cell_type": "code",
   "execution_count": 19,
   "metadata": {},
   "outputs": [
    {
     "data": {
      "text/plain": [
       "array([ 0,  3,  8, 15, 24, 35, 48, 63, 80, 99])"
      ]
     },
     "execution_count": 19,
     "metadata": {},
     "output_type": "execute_result"
    }
   ],
   "source": [
    "#multiplicando arrays\n",
    "\n",
    "array1 * array2"
   ]
  },
  {
   "cell_type": "code",
   "execution_count": 20,
   "metadata": {},
   "outputs": [
    {
     "data": {
      "text/plain": [
       "375"
      ]
     },
     "execution_count": 20,
     "metadata": {},
     "output_type": "execute_result"
    }
   ],
   "source": [
    "#Produto do array1 + array2\n",
    "\n",
    "numpy.dot(array1, array2)"
   ]
  },
  {
   "cell_type": "code",
   "execution_count": 21,
   "metadata": {},
   "outputs": [],
   "source": [
    "# Tabala Verdade com arrays\n",
    "#performance - produre verificar qual vetor tem maior numereo de True ou False na hora de montar as operacoes\n",
    "#com o operador AND se o computador verificar que numero de false nas primeiras senteças o resultado é False e ele nao verifica o resto da sentença\n",
    "#com o operador OR ''     ''         '  '          '    '            ''\n",
    "\n",
    "arrayTrue = numpy.array(([True, True, True, True]))\n",
    "arrayFalse = numpy.array(([False, False, False, False]))"
   ]
  },
  {
   "cell_type": "code",
   "execution_count": 22,
   "metadata": {},
   "outputs": [
    {
     "data": {
      "text/plain": [
       "array([False, False, False, False])"
      ]
     },
     "execution_count": 22,
     "metadata": {},
     "output_type": "execute_result"
    }
   ],
   "source": [
    "#Operador AND\n",
    "numpy.logical_and(arrayFalse, arrayTrue)"
   ]
  },
  {
   "cell_type": "code",
   "execution_count": 23,
   "metadata": {},
   "outputs": [
    {
     "data": {
      "text/plain": [
       "array([ True,  True,  True,  True])"
      ]
     },
     "execution_count": 23,
     "metadata": {},
     "output_type": "execute_result"
    }
   ],
   "source": [
    "#Operador OR\n",
    "numpy.logical_or(arrayTrue, arrayFalse)"
   ]
  },
  {
   "cell_type": "code",
   "execution_count": 24,
   "metadata": {},
   "outputs": [
    {
     "data": {
      "text/plain": [
       "array([0, 1, 2, 3, 4, 5, 6, 7, 8, 9])"
      ]
     },
     "execution_count": 24,
     "metadata": {},
     "output_type": "execute_result"
    }
   ],
   "source": [
    "#Copiando Arrays - metodo Copy\n",
    "\n",
    "arrayA = numpy.arange(10)\n",
    "arrayA"
   ]
  },
  {
   "cell_type": "code",
   "execution_count": 25,
   "metadata": {},
   "outputs": [
    {
     "data": {
      "text/plain": [
       "array([5, 6, 7, 8, 9])"
      ]
     },
     "execution_count": 25,
     "metadata": {},
     "output_type": "execute_result"
    }
   ],
   "source": [
    "arrayB = arrayA[5:].copy() #copiando os elementos do arrayA a partir da casa 5 para o arrayB\n",
    "arrayB"
   ]
  },
  {
   "cell_type": "code",
   "execution_count": 40,
   "metadata": {},
   "outputs": [],
   "source": [
    "# COM O NUMPAY ARRAY EU POSSO CRIAR ARRAY MULTIDIMENCIONAIS (QUE SE COMPORTAM COMO MATRIZES)\n",
    "# MAS NO NUMPAY, TBM TEMOS UM METODO QUE TRABALHA COM MATRIZES, CHAMADO MATRIX, POREM ELE SO TRABALHA COM MATRIZES BIDIMENCIONAIS\n",
    "\n",
    "# matriz bidimenciona = 1 linha + 1 coluna\n",
    "matrizX = numpy.matrix([[1, 2], [3, 2]])\n",
    "matrizY = numpy.matrix([[4, 5], [6, 5]])"
   ]
  },
  {
   "cell_type": "code",
   "execution_count": 54,
   "metadata": {},
   "outputs": [
    {
     "data": {
      "text/plain": [
       "matrix([[5, 7],\n",
       "        [9, 7]])"
      ]
     },
     "execution_count": 54,
     "metadata": {},
     "output_type": "execute_result"
    }
   ],
   "source": [
    "%timeit #tempo de execucao\n",
    "matrizX + matrizY"
   ]
  },
  {
   "cell_type": "code",
   "execution_count": 60,
   "metadata": {},
   "outputs": [
    {
     "data": {
      "text/plain": [
       "matrix([[16, 15],\n",
       "        [24, 25]])"
      ]
     },
     "execution_count": 60,
     "metadata": {},
     "output_type": "execute_result"
    }
   ],
   "source": [
    "%timeit\n",
    "matrizX * matrizY"
   ]
  },
  {
   "cell_type": "code",
   "execution_count": 61,
   "metadata": {},
   "outputs": [
    {
     "name": "stdout",
     "output_type": "stream",
     "text": [
      "Wall time: 0 ns\n"
     ]
    },
    {
     "data": {
      "text/plain": [
       "matrix([[ 4, 10],\n",
       "        [18, 10]])"
      ]
     },
     "execution_count": 61,
     "metadata": {},
     "output_type": "execute_result"
    }
   ],
   "source": [
    "%time #tempo de execucao - performance\n",
    "numpy.multiply(matrizX,matrizY)"
   ]
  },
  {
   "cell_type": "code",
   "execution_count": 62,
   "metadata": {},
   "outputs": [
    {
     "data": {
      "text/plain": [
       "matrix([[-0.5 ,  0.5 ],\n",
       "        [ 0.75, -0.25]])"
      ]
     },
     "execution_count": 62,
     "metadata": {},
     "output_type": "execute_result"
    }
   ],
   "source": [
    "#Matriz inversa\n",
    "\n",
    "matrizInversa = numpy.linalg.inv(matrizX)\n",
    "matrizInversa"
   ]
  },
  {
   "cell_type": "code",
   "execution_count": 65,
   "metadata": {},
   "outputs": [
    {
     "data": {
      "text/plain": [
       "matrix([[-0.5 ,  0.5 ],\n",
       "        [ 0.75, -0.25]])"
      ]
     },
     "execution_count": 65,
     "metadata": {},
     "output_type": "execute_result"
    }
   ],
   "source": [
    "# Importando a fucao de matriz inversa especicficamente da biblioteca numpy\n",
    "\n",
    "from numpy.linalg import inv\n",
    "\n",
    "inv(matrizX)"
   ]
  },
  {
   "cell_type": "code",
   "execution_count": 66,
   "metadata": {},
   "outputs": [
    {
     "data": {
      "text/plain": [
       "matrix([[4, 6],\n",
       "        [5, 5]])"
      ]
     },
     "execution_count": 66,
     "metadata": {},
     "output_type": "execute_result"
    }
   ],
   "source": [
    "#Matriz transposta ou Pivo\n",
    "\n",
    "(matrizY.T) # .T  = troca linha por coluna\n",
    "\n",
    "#comumente utilizado para sumarizacao"
   ]
  },
  {
   "cell_type": "code",
   "execution_count": 68,
   "metadata": {},
   "outputs": [
    {
     "data": {
      "text/plain": [
       "matrix([[4, 6],\n",
       "        [5, 5]])"
      ]
     },
     "execution_count": 68,
     "metadata": {},
     "output_type": "execute_result"
    }
   ],
   "source": [
    "#outro metodo utilizando numpy\n",
    "\n",
    "numpy.transpose(matrizY)"
   ]
  },
  {
   "cell_type": "code",
   "execution_count": 83,
   "metadata": {},
   "outputs": [
    {
     "data": {
      "text/plain": [
       "array([[200, 300, 400],\n",
       "       [300, 400, 500],\n",
       "       [400, 500, 600]])"
      ]
     },
     "execution_count": 83,
     "metadata": {},
     "output_type": "execute_result"
    }
   ],
   "source": [
    "#Broadcasting com array\n",
    "#broadcasting replica as linhas e colunas \n",
    "#declaracao de array sao com dois [[]] e ()\n",
    "\n",
    "arrayBroad = numpy.array([[100, 200, 300]])\n",
    "#array transposto + ele mesmo\n",
    "(arrayBroad.T) + arrayBroad"
   ]
  },
  {
   "cell_type": "code",
   "execution_count": 85,
   "metadata": {},
   "outputs": [
    {
     "data": {
      "text/plain": [
       "matrix([[1, 2, 3, 2]])"
      ]
     },
     "execution_count": 85,
     "metadata": {},
     "output_type": "execute_result"
    }
   ],
   "source": [
    "# transformar matrix em vetor, array\n",
    "matrizX.ravel()"
   ]
  },
  {
   "cell_type": "code",
   "execution_count": 96,
   "metadata": {},
   "outputs": [
    {
     "name": "stdout",
     "output_type": "stream",
     "text": [
      "[[ 10  30  50  70  90]\n",
      " [100 300 500 700 900]\n",
      " [  1   3   5   7   9]]\n"
     ]
    },
    {
     "data": {
      "text/plain": [
       "array([ 10,  30,  50,  70,  90, 100, 300, 500, 700, 900,   1,   3,   5,\n",
       "         7,   9])"
      ]
     },
     "execution_count": 96,
     "metadata": {},
     "output_type": "execute_result"
    }
   ],
   "source": [
    "# o mesmo serve para array bidimencionais ou multidimencionais\n",
    "#usando o arrange para popular o array - vericar acima nesse documento sobre Arange \n",
    "\n",
    "arrayMulti = numpy.array([numpy.arange(10, 100, 20), numpy.arange(100, 1000, 200), numpy.arange(1, 10, 2)])\n",
    "\n",
    "print(arrayMulti)\n",
    "arrayMulti.ravel()"
   ]
  },
  {
   "cell_type": "code",
   "execution_count": 97,
   "metadata": {},
   "outputs": [
    {
     "data": {
      "text/plain": [
       "array([ 10, 100,   1,  30, 300,   3,  50, 500,   5,  70, 700,   7,  90,\n",
       "       900,   9])"
      ]
     },
     "execution_count": 97,
     "metadata": {},
     "output_type": "execute_result"
    }
   ],
   "source": [
    "# transpondo matriz e convertendo em array\n",
    "arrayMulti.T.ravel()"
   ]
  },
  {
   "cell_type": "code",
   "execution_count": 99,
   "metadata": {},
   "outputs": [
    {
     "data": {
      "text/plain": [
       "array([[6, 2, 6, 4],\n",
       "       [8, 1, 8, 5],\n",
       "       [3, 9, 9, 1],\n",
       "       [8, 7, 3, 7]])"
      ]
     },
     "execution_count": 99,
     "metadata": {},
     "output_type": "execute_result"
    }
   ],
   "source": [
    "# criando array multidimencional(matriz) de forma randomica\n",
    "\n",
    "arrayRandom = numpy.random.randint(1,10, size = (4,4))\n",
    "arrayRandom"
   ]
  },
  {
   "cell_type": "code",
   "execution_count": 101,
   "metadata": {},
   "outputs": [
    {
     "data": {
      "text/plain": [
       "True"
      ]
     },
     "execution_count": 101,
     "metadata": {},
     "output_type": "execute_result"
    }
   ],
   "source": [
    "#opercacoes logicas\n",
    "\n",
    "numpy.any((arrayRandom % 7) == 0) # Any = OR - um ou qualquer um do conteudo da matriz divido por 7 é igual a 0"
   ]
  },
  {
   "cell_type": "code",
   "execution_count": 103,
   "metadata": {},
   "outputs": [
    {
     "data": {
      "text/plain": [
       "False"
      ]
     },
     "execution_count": 103,
     "metadata": {},
     "output_type": "execute_result"
    }
   ],
   "source": [
    "numpy.all((arrayRandom > 11)) # All = AND - todos da afirmacao precisam ser verdadeiros"
   ]
  },
  {
   "cell_type": "code",
   "execution_count": 115,
   "metadata": {},
   "outputs": [
    {
     "name": "stdout",
     "output_type": "stream",
     "text": [
      "[ 1  2  3  4  5  6  7  8  9 10]\n"
     ]
    },
    {
     "data": {
      "text/plain": [
       "array([[ 1,  2],\n",
       "       [ 3,  4],\n",
       "       [ 5,  6],\n",
       "       [ 7,  8],\n",
       "       [ 9, 10]])"
      ]
     },
     "execution_count": 115,
     "metadata": {},
     "output_type": "execute_result"
    }
   ],
   "source": [
    "#Trasformando array unidimencional em Matrizes (arrays multidimencionais)\n",
    "\n",
    "arrayToMatriz = numpy.array(numpy.arange(1,11))\n",
    "print(arrayToMatriz)\n",
    "\n",
    "arrayToMatriz.reshape(5,2) #primeiro parametro é o numero de linhas e o segundo é referente ao numero de colunas"
   ]
  },
  {
   "cell_type": "code",
   "execution_count": 119,
   "metadata": {},
   "outputs": [
    {
     "name": "stdout",
     "output_type": "stream",
     "text": [
      "Array desodernado\n",
      " [[ 5  2  3]\n",
      " [10  5  0]]\n",
      "Array ordenado por linha\n",
      " [[ 2  3  5]\n",
      " [ 0  5 10]]\n",
      "Array ordenado por coluna\n",
      " [[ 0  3  5]\n",
      " [ 2  5 10]]\n"
     ]
    }
   ],
   "source": [
    "#ORDENANDO ARRAY\n",
    "\n",
    "arrayOrdena = numpy.array([[5, 2, 3], [10, 5, 0]])\n",
    "print(\"Array desodernado\\n\",arrayOrdena)\n",
    "\n",
    "#ordenar array por linha\n",
    "arrayOrdena.sort(axis = 1)\n",
    "print(\"Array ordenado por linha\\n\", arrayOrdena)\n",
    "\n",
    "#ordenar array por coluna\n",
    "arrayOrdena.sort(axis = 0)\n",
    "print(\"Array ordenado por coluna\\n\", arrayOrdena)"
   ]
  },
  {
   "cell_type": "code",
   "execution_count": null,
   "metadata": {},
   "outputs": [],
   "source": []
  }
 ],
 "metadata": {
  "kernelspec": {
   "display_name": "Python 3",
   "language": "python",
   "name": "python3"
  },
  "language_info": {
   "codemirror_mode": {
    "name": "ipython",
    "version": 3
   },
   "file_extension": ".py",
   "mimetype": "text/x-python",
   "name": "python",
   "nbconvert_exporter": "python",
   "pygments_lexer": "ipython3",
   "version": "3.7.6"
  }
 },
 "nbformat": 4,
 "nbformat_minor": 4
}
